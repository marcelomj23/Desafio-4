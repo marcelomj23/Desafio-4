{
 "cells": [
  {
   "cell_type": "markdown",
   "metadata": {},
   "source": [
    "# Imports"
   ]
  },
  {
   "cell_type": "code",
   "execution_count": 1,
   "metadata": {},
   "outputs": [],
   "source": [
    "import mysql.connector\n",
    "import os\n",
    "from dotenv import load_dotenv\n",
    "from sqlalchemy import create_engine\n",
    "import pandas as pd\n",
    "from statsmodels.tsa.statespace.sarimax import SARIMAX\n",
    "from statsmodels.tsa.arima.model import ARIMA\n",
    "import matplotlib.pyplot as plt\n",
    "import numpy as np"
   ]
  },
  {
   "cell_type": "markdown",
   "metadata": {},
   "source": [
    "# Leitura de dados"
   ]
  },
  {
   "cell_type": "code",
   "execution_count": 2,
   "metadata": {},
   "outputs": [],
   "source": [
    "def carrega_conexao():\n",
    "    load_dotenv()\n",
    "    env = os.environ\n",
    "\n",
    "    # Connect to MySQL server\n",
    "    localhost = env.get('MYSQL_HOST')\n",
    "    user = env.get('MYSQL_USER')\n",
    "    password = env.get('MYSQL_PASSWORD')\n",
    "\n",
    "    conexao = mysql.connector.connect(user=user, password=password, host=localhost)\n",
    "    return conexao"
   ]
  },
  {
   "cell_type": "code",
   "execution_count": 3,
   "metadata": {},
   "outputs": [],
   "source": [
    "# Use a função carrega_conexao para obter a conexão\n",
    "conexao_mysql = carrega_conexao()\n",
    "\n",
    "# Converta a conexão MySQL para uma conexão SQLAlchemy\n",
    "engine = create_engine('mysql+mysqlconnector://', creator=lambda: conexao_mysql)\n",
    "\n",
    "# Substitua 'select * from fase4_petroleo.petroleo' pela sua consulta SQL\n",
    "query = 'select * from fase4_petroleo.petroleo'\n",
    "\n",
    "# Use a engine para ler os dados da tabela\n",
    "df = pd.read_sql(query, con=engine)\n",
    "\n",
    "# Não se esqueça de fechar a conexão quando terminar de usá-la\n",
    "conexao_mysql.close()"
   ]
  },
  {
   "cell_type": "code",
   "execution_count": 4,
   "metadata": {},
   "outputs": [
    {
     "data": {
      "text/html": [
       "<div>\n",
       "<style scoped>\n",
       "    .dataframe tbody tr th:only-of-type {\n",
       "        vertical-align: middle;\n",
       "    }\n",
       "\n",
       "    .dataframe tbody tr th {\n",
       "        vertical-align: top;\n",
       "    }\n",
       "\n",
       "    .dataframe thead th {\n",
       "        text-align: right;\n",
       "    }\n",
       "</style>\n",
       "<table border=\"1\" class=\"dataframe\">\n",
       "  <thead>\n",
       "    <tr style=\"text-align: right;\">\n",
       "      <th></th>\n",
       "      <th>preco</th>\n",
       "    </tr>\n",
       "    <tr>\n",
       "      <th>data</th>\n",
       "      <th></th>\n",
       "    </tr>\n",
       "  </thead>\n",
       "  <tbody>\n",
       "    <tr>\n",
       "      <th>2024-01-22</th>\n",
       "      <td>81.70</td>\n",
       "    </tr>\n",
       "    <tr>\n",
       "      <th>2024-01-19</th>\n",
       "      <td>80.71</td>\n",
       "    </tr>\n",
       "    <tr>\n",
       "      <th>2024-01-18</th>\n",
       "      <td>81.04</td>\n",
       "    </tr>\n",
       "    <tr>\n",
       "      <th>2024-01-17</th>\n",
       "      <td>78.88</td>\n",
       "    </tr>\n",
       "    <tr>\n",
       "      <th>2024-01-16</th>\n",
       "      <td>80.15</td>\n",
       "    </tr>\n",
       "    <tr>\n",
       "      <th>...</th>\n",
       "      <td>...</td>\n",
       "    </tr>\n",
       "    <tr>\n",
       "      <th>1987-05-26</th>\n",
       "      <td>18.63</td>\n",
       "    </tr>\n",
       "    <tr>\n",
       "      <th>1987-05-25</th>\n",
       "      <td>18.60</td>\n",
       "    </tr>\n",
       "    <tr>\n",
       "      <th>1987-05-22</th>\n",
       "      <td>18.55</td>\n",
       "    </tr>\n",
       "    <tr>\n",
       "      <th>1987-05-21</th>\n",
       "      <td>18.45</td>\n",
       "    </tr>\n",
       "    <tr>\n",
       "      <th>1987-05-20</th>\n",
       "      <td>18.63</td>\n",
       "    </tr>\n",
       "  </tbody>\n",
       "</table>\n",
       "<p>11092 rows × 1 columns</p>\n",
       "</div>"
      ],
      "text/plain": [
       "            preco\n",
       "data             \n",
       "2024-01-22  81.70\n",
       "2024-01-19  80.71\n",
       "2024-01-18  81.04\n",
       "2024-01-17  78.88\n",
       "2024-01-16  80.15\n",
       "...           ...\n",
       "1987-05-26  18.63\n",
       "1987-05-25  18.60\n",
       "1987-05-22  18.55\n",
       "1987-05-21  18.45\n",
       "1987-05-20  18.63\n",
       "\n",
       "[11092 rows x 1 columns]"
      ]
     },
     "execution_count": 4,
     "metadata": {},
     "output_type": "execute_result"
    }
   ],
   "source": [
    "df.set_index('data', inplace=True)\n",
    "df"
   ]
  },
  {
   "cell_type": "code",
   "execution_count": 5,
   "metadata": {},
   "outputs": [],
   "source": [
    "#inverter a ordem do dataframe\n",
    "df = df.iloc[::-1]"
   ]
  },
  {
   "cell_type": "markdown",
   "metadata": {},
   "source": [
    "# Modelos"
   ]
  },
  {
   "cell_type": "code",
   "execution_count": 6,
   "metadata": {},
   "outputs": [],
   "source": [
    "import pandas as pd\n",
    "from statsmodels.tsa.statespace.sarimax import SARIMAX\n",
    "from statsmodels.tsa.arima.model import ARIMA\n",
    "import matplotlib.pyplot as plt\n",
    "import numpy as np\n",
    "from tqdm import tqdm\n",
    "import warnings\n",
    "\n",
    "def preprocess_data(df, train_data_size, forecast_steps):\n",
    "    df = df.sort_index(ascending=True)\n",
    "    df = df.asfreq('B')\n",
    "    train_data = df[-train_data_size:-forecast_steps]\n",
    "    return df, train_data\n",
    "\n",
    "def train_arima_model(train_data):\n",
    "    arima_model = ARIMA(train_data, order=(2, 1, 2))\n",
    "    with warnings.catch_warnings():\n",
    "        warnings.filterwarnings(\"ignore\")  # Silence ConvergenceWarning\n",
    "        arima_model_trained = arima_model.fit()\n",
    "    return arima_model_trained\n",
    "\n",
    "def forecast_arima_model(arima_model_trained, last_date, forecast_steps):\n",
    "    arima_forecast = arima_model_trained.get_forecast(steps=forecast_steps)\n",
    "    arima_pred_mean = arima_forecast.predicted_mean.rename('ARIMA(2,1,2) Predictions')\n",
    "    arima_pred_mean.index = pd.date_range(start=last_date + pd.Timedelta(days=1), periods=forecast_steps, freq='B')\n",
    "    return arima_pred_mean\n",
    "\n",
    "def train_sarima_model(train_data):\n",
    "    sarima_model = SARIMAX(train_data, order=(2, 1, 2), seasonal_order=(1, 1, 1, 5))\n",
    "    with warnings.catch_warnings():\n",
    "        warnings.filterwarnings(\"ignore\")  # Silence ConvergenceWarning\n",
    "        sarima_model_trained = sarima_model.fit()\n",
    "    return sarima_model_trained\n",
    "\n",
    "def forecast_sarima_model(sarima_model_trained, last_date, forecast_steps):\n",
    "    sarima_forecast = sarima_model_trained.get_forecast(steps=forecast_steps)\n",
    "    sarima_pred_mean = sarima_forecast.predicted_mean.rename('SARIMA(2,1,2)(1,1,1,5) Predictions')\n",
    "    sarima_pred_mean.index = pd.date_range(start=last_date + pd.Timedelta(days=1), periods=forecast_steps, freq='B')\n",
    "    return sarima_pred_mean\n",
    "\n",
    "def calculate_metrics(predictions, actual_values):\n",
    "    mae = np.mean(np.abs(predictions - actual_values))\n",
    "    mse = np.mean((predictions - actual_values)**2)\n",
    "    rmse = np.sqrt(mse)\n",
    "    mape = np.mean(np.abs((actual_values - predictions) / actual_values)) * 100\n",
    "    return mae, mse, rmse, mape\n",
    "\n",
    "def plot_predictions(df, train_data_size, plot_data_size, actual_values, arima_pred_mean, sarima_pred_mean):\n",
    "    plt.figure(figsize=(12, 6))\n",
    "    plt.plot(df.loc[df.index[-plot_data_size:]], label=f'Last {train_data_size} Days Data', marker='o', linestyle='-', color='black')\n",
    "    plt.plot(arima_pred_mean, label='ARIMA Predictions', linestyle='dashed', color='blue', marker='o')\n",
    "    plt.plot(sarima_pred_mean, label='SARIMA Predictions', linestyle='dashed', color='green', marker='o')\n",
    "    \n",
    "    plt.yticks(np.arange(55, 101, step=5))\n",
    "    \n",
    "    plt.legend()\n",
    "    plt.title(f'ARIMA and SARIMA Predictions for the Last {train_data_size} Days')\n",
    "    plt.show()\n",
    "\n",
    "def time_series_pipeline(data, train_data_size, forecast_steps, plot_data_size, plot=False):\n",
    "    df, train_data = preprocess_data(data, train_data_size, forecast_steps)\n",
    "\n",
    "    arima_model_trained = train_arima_model(train_data)\n",
    "    last_date = train_data.index[-1]\n",
    "    arima_pred_mean = forecast_arima_model(arima_model_trained, last_date, forecast_steps)\n",
    "\n",
    "    sarima_model_trained = train_sarima_model(train_data)\n",
    "    sarima_pred_mean = forecast_sarima_model(sarima_model_trained, last_date, forecast_steps)\n",
    "\n",
    "    actual_values = df.loc[df.index[-forecast_steps:], 'preco'].values  # Replace 'preco' with the actual column name\n",
    "\n",
    "    mae_arima, mse_arima, rmse_arima, mape_arima = calculate_metrics(arima_pred_mean, actual_values)\n",
    "    mae_sarima, mse_sarima, rmse_sarima, mape_sarima = calculate_metrics(sarima_pred_mean, actual_values)\n",
    "\n",
    "    if plot:\n",
    "        plot_predictions(df, train_data_size, plot_data_size, actual_values, arima_pred_mean, sarima_pred_mean)\n",
    "        print(\"ARIMA Metrics:\")\n",
    "        print(f\"MAE: {mae_arima:.2f}\")\n",
    "        print(f\"MSE: {mse_arima:.2f}\")\n",
    "        print(f\"RMSE: {rmse_arima:.2f}\")\n",
    "        print(f\"MAPE: {mape_arima:.2f}%\")\n",
    "\n",
    "        print(\"\\nSARIMA Metrics:\")\n",
    "        print(f\"MAE: {mae_sarima:.2f}\")\n",
    "        print(f\"MSE: {mse_sarima:.2f}\")\n",
    "        print(f\"RMSE: {rmse_sarima:.2f}\")\n",
    "        print(f\"MAPE: {mape_sarima:.2f}%\")\n",
    "\n",
    "    return mae_arima, mae_sarima\n",
    "\n",
    "def find_best_parameters(data, train_intervals, forecast_intervals, plot_data_size):\n",
    "    best_mae = float('inf')\n",
    "    best_train_data_size = None\n",
    "    best_forecast_steps = None\n",
    "    best_model = None\n",
    "\n",
    "    for train_interval in tqdm(train_intervals, desc=\"Training ARIMA and SARIMA\"):\n",
    "        #remove from forecast_intervals the values that are greater than train_interval\n",
    "        forecast_intervals_copy = [x for x in forecast_intervals if x < train_interval]\n",
    "        for forecast_interval in tqdm(forecast_intervals_copy, desc=\"Forecasting\"):\n",
    "            train_data_size = train_interval\n",
    "            forecast_steps = forecast_interval\n",
    "\n",
    "            mae_arima, mae_sarima = time_series_pipeline(data, train_data_size, forecast_steps, plot_data_size)\n",
    "\n",
    "            if mae_arima < best_mae:\n",
    "                best_mae = mae_arima\n",
    "                best_train_data_size = train_data_size\n",
    "                best_forecast_steps = forecast_steps\n",
    "                best_model = 'ARIMA'\n",
    "\n",
    "            if mae_sarima < best_mae:\n",
    "                best_mae = mae_sarima\n",
    "                best_train_data_size = train_data_size\n",
    "                best_forecast_steps = forecast_steps\n",
    "                best_model = 'SARIMA'\n",
    "\n",
    "    time_series_pipeline(data, best_train_data_size, best_forecast_steps, plot_data_size, plot=True)\n",
    "\n",
    "    print(f\"Best Parameters - Train Interval: {best_train_data_size} days, Forecast Interval: {best_forecast_steps} days\")\n",
    "    print(f\"Best Model: {best_model}\")\n",
    "    print(f\"Best MAE: {best_mae:.2f}\")\n"
   ]
  },
  {
   "cell_type": "code",
   "execution_count": 7,
   "metadata": {},
   "outputs": [
    {
     "name": "stderr",
     "output_type": "stream",
     "text": [
      "Forecasting: 100%|██████████| 4/4 [00:02<00:00,  1.89it/s]?it/s]\n",
      "Forecasting: 100%|██████████| 5/5 [00:03<00:00,  1.44it/s]14,  2.12s/it]\n",
      "Forecasting: 100%|██████████| 5/5 [00:04<00:00,  1.06it/s]17,  2.92s/it]\n",
      "Forecasting: 100%|██████████| 5/5 [00:06<00:00,  1.29s/it]18,  3.74s/it]\n",
      "Forecasting: 100%|██████████| 5/5 [00:09<00:00,  1.86s/it]19,  4.82s/it]\n",
      "Forecasting: 100%|██████████| 5/5 [00:24<00:00,  4.94s/it]19,  6.43s/it]\n",
      "Forecasting: 100%|██████████| 5/5 [00:40<00:00,  8.18s/it]25, 12.64s/it]\n",
      "Forecasting: 100%|██████████| 5/5 [01:36<00:00, 19.23s/it]21, 21.89s/it]\n",
      "Training ARIMA and SARIMA: 100%|██████████| 8/8 [03:07<00:00, 23.48s/it]\n"
     ]
    },
    {
     "data": {
      "image/png": "[encoded data removed]",
      "text/plain": [
       "<Figure size 1200x600 with 1 Axes>"
      ]
     },
     "metadata": {},
     "output_type": "display_data"
    },
    {
     "name": "stdout",
     "output_type": "stream",
     "text": [
      "ARIMA Metrics:\n",
      "MAE: 0.09\n",
      "MSE: 0.01\n",
      "RMSE: 0.09\n",
      "MAPE: 0.11%\n",
      "\n",
      "SARIMA Metrics:\n",
      "MAE: 0.54\n",
      "MSE: 0.29\n",
      "RMSE: 0.54\n",
      "MAPE: 0.66%\n",
      "Best Parameters - Train Interval: 30 days, Forecast Interval: 1 days\n",
      "Best Model: ARIMA\n",
      "Best MAE: 0.09\n"
     ]
    }
   ],
   "source": [
    "# Example usage:\n",
    "train_intervals = [30, 90, 180, 365, 730, 1825, 3650, len(df)]  # Intervals in days for training\n",
    "forecast_intervals = [1, 2, 5, 10, 30]  # Intervals in days for forecasting\n",
    "\n",
    "find_best_parameters(df, train_intervals, forecast_intervals, plot_data_size=10)"
   ]
  },
  {
   "cell_type": "code",
   "execution_count": 12,
   "metadata": {},
   "outputs": [],
   "source": [
    "best_train_data_size = 30\n",
    "best_forecast_steps = 1"
   ]
  },
  {
   "cell_type": "code",
   "execution_count": 13,
   "metadata": {},
   "outputs": [],
   "source": [
    "#train the best model and save it\n",
    "df, train_data = preprocess_data(df, best_train_data_size, best_forecast_steps)\n",
    "sarima_model_trained = train_sarima_model(train_data)\n",
    "sarima_model_trained.save('..\\modelos\\sarima_model_trained.pkl')"
   ]
  },
  {
   "cell_type": "code",
   "execution_count": null,
   "metadata": {},
   "outputs": [],
   "source": []
  }
 ],
 "metadata": {
  "kernelspec": {
   "display_name": ".venv",
   "language": "python",
   "name": "python3"
  },
  "language_info": {
   "codemirror_mode": {
    "name": "ipython",
    "version": 3
   },
   "file_extension": ".py",
   "mimetype": "text/x-python",
   "name": "python",
   "nbconvert_exporter": "python",
   "pygments_lexer": "ipython3",
   "version": "3.11.3"
  }
 },
 "nbformat": 4,
 "nbformat_minor": 2
}
